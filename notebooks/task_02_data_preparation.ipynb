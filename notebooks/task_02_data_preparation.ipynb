{
 "cells": [
  {
   "cell_type": "markdown",
   "id": "91bc7bc2-b6da-40d3-b2f7-cb45caf056ee",
   "metadata": {},
   "source": [
    "# Task 02: Data Preparation - ICC Men's Cricket World Cup Analysis"
   ]
  },
  {
   "cell_type": "code",
   "execution_count": 2,
   "id": "f52c8deb-f95a-4b79-8621-09abbba9c377",
   "metadata": {},
   "outputs": [
    {
     "name": "stdout",
     "output_type": "stream",
     "text": [
      "Jupyter setup for Task 02\n"
     ]
    }
   ],
   "source": [
    "import pandas as pd\n",
    "print(\"Jupyter setup for Task 02\")"
   ]
  },
  {
   "cell_type": "code",
   "execution_count": null,
   "id": "da250644-e4ae-4a04-b9ec-c81b4e79e4a5",
   "metadata": {},
   "outputs": [],
   "source": []
  }
 ],
 "metadata": {
  "kernelspec": {
   "display_name": "Python 3 (ipykernel)",
   "language": "python",
   "name": "python3"
  },
  "language_info": {
   "codemirror_mode": {
    "name": "ipython",
    "version": 3
   },
   "file_extension": ".py",
   "mimetype": "text/x-python",
   "name": "python",
   "nbconvert_exporter": "python",
   "pygments_lexer": "ipython3",
   "version": "3.13.2"
  }
 },
 "nbformat": 4,
 "nbformat_minor": 5
}
