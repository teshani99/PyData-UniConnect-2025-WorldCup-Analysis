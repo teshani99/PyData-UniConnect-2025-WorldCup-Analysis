{
 "cells": [
  {
   "cell_type": "code",
   "execution_count": 17,
   "id": "f6d00337-e0c0-4b31-b18d-e67317470e66",
   "metadata": {},
   "outputs": [],
   "source": [
    "import pandas as pd\n",
    "import glob\n",
    "import os\n",
    "import re"
   ]
  },
  {
   "cell_type": "code",
   "execution_count": 18,
   "id": "84f51581-f246-440c-a572-f733d46355a3",
   "metadata": {},
   "outputs": [],
   "source": [
    "pd.set_option('display.max_columns', None)"
   ]
  },
  {
   "cell_type": "code",
   "execution_count": 19,
   "id": "6558048e-d71d-44a5-af12-4b279be17e8b",
   "metadata": {},
   "outputs": [],
   "source": [
    "base_path = r\"C:\\Users\\HP\\PyData-UniConnect-2025-WorldCup-Analysis\"  # Project root\n",
    "data_path = os.path.join(base_path, 'data', 'WorldCup_Stats', '*.csv')\n",
    "output_path = os.path.join(base_path, 'outputs', 'cleaned_cricket_worldcup.csv')"
   ]
  },
  {
   "cell_type": "code",
   "execution_count": 16,
   "id": "35e3d5cc-3e2e-4008-8369-204ffb4f317c",
   "metadata": {},
   "outputs": [
    {
     "name": "stdout",
     "output_type": "stream",
     "text": [
      "Found 13 CSV files.\n"
     ]
    }
   ],
   "source": [
    "csv_files = glob.glob(data_path)\n",
    "print(f\"Found {len(csv_files)} CSV files.\")"
   ]
  },
  {
   "cell_type": "code",
   "execution_count": 13,
   "id": "2fafb502-b60a-4171-9c47-bd71c99fc1f6",
   "metadata": {},
   "outputs": [
    {
     "name": "stdout",
     "output_type": "stream",
     "text": [
      "['.ipynb_checkpoints', '1975_Match_Stats.csv', '1979_Match_Stats.csv', '1983_Match_Stats.csv', '1987_Match_Stats.csv', '1992_Match_Stats.csv', '1996_Match_Stats.csv', '1999_Match_Stats.csv', '2003_Match_Stats.csv', '2007_Match_Stats.csv', '2011_Match_Stats.csv', '2015_Match_Stats.csv', '2019_Match_Stats.csv', '2023_Match_Stats.csv']\n"
     ]
    }
   ],
   "source": [
    "import os\n",
    "folder_path = r\"C:\\Users\\HP\\PyData-UniConnect-2025-WorldCup-Analysis\\data\\WorldCup_Stats\"\n",
    "print(os.listdir(folder_path))"
   ]
  },
  {
   "cell_type": "code",
   "execution_count": 14,
   "id": "6a336d05-a7c3-465c-8c85-f7725f20d61c",
   "metadata": {},
   "outputs": [],
   "source": [
    "data_path = r\"C:\\Users\\HP\\WorldCup_Stats\\*.csv\""
   ]
  },
  {
   "cell_type": "code",
   "execution_count": 20,
   "id": "91cfddb3-bf92-49b0-ad25-0041314dac61",
   "metadata": {},
   "outputs": [
    {
     "name": "stdout",
     "output_type": "stream",
     "text": [
      "Data path: C:\\Users\\HP\\PyData-UniConnect-2025-WorldCup-Analysis\\data\\WorldCup_Stats\\*.csv\n"
     ]
    }
   ],
   "source": [
    "print(f\"Data path: {data_path}\")"
   ]
  },
  {
   "cell_type": "code",
   "execution_count": 21,
   "id": "49fc1a67-49a4-4457-b9d2-42659e976b77",
   "metadata": {},
   "outputs": [
    {
     "name": "stdout",
     "output_type": "stream",
     "text": [
      "Found 13 CSV files: ['C:\\\\Users\\\\HP\\\\PyData-UniConnect-2025-WorldCup-Analysis\\\\data\\\\WorldCup_Stats\\\\1975_Match_Stats.csv', 'C:\\\\Users\\\\HP\\\\PyData-UniConnect-2025-WorldCup-Analysis\\\\data\\\\WorldCup_Stats\\\\1979_Match_Stats.csv', 'C:\\\\Users\\\\HP\\\\PyData-UniConnect-2025-WorldCup-Analysis\\\\data\\\\WorldCup_Stats\\\\1983_Match_Stats.csv', 'C:\\\\Users\\\\HP\\\\PyData-UniConnect-2025-WorldCup-Analysis\\\\data\\\\WorldCup_Stats\\\\1987_Match_Stats.csv', 'C:\\\\Users\\\\HP\\\\PyData-UniConnect-2025-WorldCup-Analysis\\\\data\\\\WorldCup_Stats\\\\1992_Match_Stats.csv', 'C:\\\\Users\\\\HP\\\\PyData-UniConnect-2025-WorldCup-Analysis\\\\data\\\\WorldCup_Stats\\\\1996_Match_Stats.csv', 'C:\\\\Users\\\\HP\\\\PyData-UniConnect-2025-WorldCup-Analysis\\\\data\\\\WorldCup_Stats\\\\1999_Match_Stats.csv', 'C:\\\\Users\\\\HP\\\\PyData-UniConnect-2025-WorldCup-Analysis\\\\data\\\\WorldCup_Stats\\\\2003_Match_Stats.csv', 'C:\\\\Users\\\\HP\\\\PyData-UniConnect-2025-WorldCup-Analysis\\\\data\\\\WorldCup_Stats\\\\2007_Match_Stats.csv', 'C:\\\\Users\\\\HP\\\\PyData-UniConnect-2025-WorldCup-Analysis\\\\data\\\\WorldCup_Stats\\\\2011_Match_Stats.csv', 'C:\\\\Users\\\\HP\\\\PyData-UniConnect-2025-WorldCup-Analysis\\\\data\\\\WorldCup_Stats\\\\2015_Match_Stats.csv', 'C:\\\\Users\\\\HP\\\\PyData-UniConnect-2025-WorldCup-Analysis\\\\data\\\\WorldCup_Stats\\\\2019_Match_Stats.csv', 'C:\\\\Users\\\\HP\\\\PyData-UniConnect-2025-WorldCup-Analysis\\\\data\\\\WorldCup_Stats\\\\2023_Match_Stats.csv']\n"
     ]
    }
   ],
   "source": [
    "csv_files = glob.glob(data_path)\n",
    "print(f\"Found {len(csv_files)} CSV files: {csv_files}\")"
   ]
  },
  {
   "cell_type": "code",
   "execution_count": 22,
   "id": "bbae95d1-c4fa-4ae6-ae71-a247d5f4b960",
   "metadata": {},
   "outputs": [],
   "source": [
    "dfs = [pd.read_csv(file) for file in csv_files]"
   ]
  },
  {
   "cell_type": "code",
   "execution_count": 23,
   "id": "2de48eeb-188f-49ef-9837-51c6555d39c4",
   "metadata": {},
   "outputs": [],
   "source": [
    "crick_df = pd.concat(dfs, ignore_index=True)"
   ]
  },
  {
   "cell_type": "code",
   "execution_count": 24,
   "id": "101cbd55-f931-4910-a3a5-e470349613ad",
   "metadata": {},
   "outputs": [
    {
     "name": "stdout",
     "output_type": "stream",
     "text": [
      "\n",
      "Shape of combined DataFrame: (528, 18)\n",
      "\n",
      "First few rows of the DataFrame:\n",
      "   Unnamed: 0.1  Unnamed: 0        date        venue match_category team_1  \\\n",
      "0             0          11         NaN   Nottingham   League-Match    PAK   \n",
      "1             1           5         NaN        Leeds   League-Match    EAf   \n",
      "2             2          12  1975-06-18        Leeds     Semi-Final    ENG   \n",
      "3             3           8  1975-06-14   Birmingham   League-Match    ENG   \n",
      "4             4          13         NaN     The Oval     Semi-Final     NZ   \n",
      "\n",
      "  team_2  team_1_runs  team_1_wickets  team_2_runs  team_2_wickets  \\\n",
      "0     SL        330.0             6.0        138.0             0.0   \n",
      "1    IND        120.0             0.0        123.0             0.0   \n",
      "2    AUS         93.0             0.0         94.0             6.0   \n",
      "3    EAf        290.0             5.0         94.0             0.0   \n",
      "4     WI        158.0             0.0        159.0             5.0   \n",
      "\n",
      "                                              result                 pom  \\\n",
      "0                           Pakistan won by 192 runs        Zaheer Abbas   \n",
      "1  India won by 10 wickets (with 181 balls remain...     Farokh Engineer   \n",
      "2  Australia won by 4 wickets (with 188 balls rem...        Gary Gilmour   \n",
      "3                            England won by 196 runs           John Snow   \n",
      "4  West Indies won by 5 wickets (with 119 balls r...  Alvin Kallicharran   \n",
      "\n",
      "  best_batters best_bowlers commentary_line  world_cup_year host_country  \n",
      "0          NaN          NaN             NaN            1975      England  \n",
      "1          NaN          NaN             NaN            1975      England  \n",
      "2          NaN          NaN             NaN            1975      England  \n",
      "3          NaN          NaN             NaN            1975      England  \n",
      "4          NaN          NaN             NaN            1975      England  \n"
     ]
    }
   ],
   "source": [
    "print(\"\\nShape of combined DataFrame:\", crick_df.shape)\n",
    "print(\"\\nFirst few rows of the DataFrame:\")\n",
    "print(crick_df.head())"
   ]
  },
  {
   "cell_type": "markdown",
   "id": "60b1b7ee-a8b4-4db2-ab79-f4a27de8eb8c",
   "metadata": {},
   "source": [
    "Initial Data Exploration and Cleaning"
   ]
  },
  {
   "cell_type": "code",
   "execution_count": 25,
   "id": "73e559d6-aee3-4250-b661-de49cda9664b",
   "metadata": {},
   "outputs": [
    {
     "name": "stdout",
     "output_type": "stream",
     "text": [
      "\n",
      "DataFrame Info:\n",
      "<class 'pandas.core.frame.DataFrame'>\n",
      "RangeIndex: 528 entries, 0 to 527\n",
      "Data columns (total 18 columns):\n",
      " #   Column           Non-Null Count  Dtype  \n",
      "---  ------           --------------  -----  \n",
      " 0   Unnamed: 0.1     528 non-null    int64  \n",
      " 1   Unnamed: 0       528 non-null    int64  \n",
      " 2   date             364 non-null    object \n",
      " 3   venue            528 non-null    object \n",
      " 4   match_category   528 non-null    object \n",
      " 5   team_1           528 non-null    object \n",
      " 6   team_2           528 non-null    object \n",
      " 7   team_1_runs      518 non-null    float64\n",
      " 8   team_1_wickets   518 non-null    float64\n",
      " 9   team_2_runs      513 non-null    float64\n",
      " 10  team_2_wickets   513 non-null    float64\n",
      " 11  result           528 non-null    object \n",
      " 12  pom              510 non-null    object \n",
      " 13  best_batters     250 non-null    object \n",
      " 14  best_bowlers     250 non-null    object \n",
      " 15  commentary_line  83 non-null     object \n",
      " 16  world_cup_year   528 non-null    int64  \n",
      " 17  host_country     528 non-null    object \n",
      "dtypes: float64(4), int64(3), object(11)\n",
      "memory usage: 74.4+ KB\n",
      "None\n"
     ]
    }
   ],
   "source": [
    "print(\"\\nDataFrame Info:\")\n",
    "print(crick_df.info())\n"
   ]
  },
  {
   "cell_type": "code",
   "execution_count": 26,
   "id": "c4bc3abb-57fb-4921-8b26-d27509dd47fc",
   "metadata": {},
   "outputs": [
    {
     "name": "stdout",
     "output_type": "stream",
     "text": [
      "\n",
      "Number of duplicate records: 0\n"
     ]
    }
   ],
   "source": [
    "duplicates = crick_df.duplicated().sum()\n",
    "print(f\"\\nNumber of duplicate records: {duplicates}\")\n",
    "if duplicates > 0:\n",
    "    crick_df = crick_df.drop_duplicates()\n",
    "    print(\"Duplicates removed. New shape:\", crick_df.shape)"
   ]
  },
  {
   "cell_type": "code",
   "execution_count": 27,
   "id": "2531a5d8-b03a-4a19-bd4b-8c6fa7747972",
   "metadata": {},
   "outputs": [
    {
     "name": "stdout",
     "output_type": "stream",
     "text": [
      "\n",
      "Null values in each column:\n",
      "Unnamed: 0.1         0\n",
      "Unnamed: 0           0\n",
      "date               164\n",
      "venue                0\n",
      "match_category       0\n",
      "team_1               0\n",
      "team_2               0\n",
      "team_1_runs         10\n",
      "team_1_wickets      10\n",
      "team_2_runs         15\n",
      "team_2_wickets      15\n",
      "result               0\n",
      "pom                 18\n",
      "best_batters       278\n",
      "best_bowlers       278\n",
      "commentary_line    445\n",
      "world_cup_year       0\n",
      "host_country         0\n",
      "dtype: int64\n"
     ]
    }
   ],
   "source": [
    "print(\"\\nNull values in each column:\")\n",
    "print(crick_df.isnull().sum())"
   ]
  },
  {
   "cell_type": "code",
   "execution_count": 28,
   "id": "f99f8634-b402-499d-80cb-01f0c2fb295a",
   "metadata": {},
   "outputs": [
    {
     "name": "stdout",
     "output_type": "stream",
     "text": [
      "Rows with critical nulls removed. New shape: (364, 18)\n"
     ]
    }
   ],
   "source": [
    "critical_columns = ['date', 'team_1', 'team_2', 'result']\n",
    "crick_df = crick_df.dropna(subset=critical_columns)\n",
    "print(\"Rows with critical nulls removed. New shape:\", crick_df.shape)"
   ]
  },
  {
   "cell_type": "markdown",
   "id": "c054bac5-2e63-4482-8d69-0e75d9913d3e",
   "metadata": {},
   "source": [
    "Handle Outliers and Missing Values"
   ]
  },
  {
   "cell_type": "code",
   "execution_count": 29,
   "id": "9e7e2793-c4f4-4b55-8094-492f071931bb",
   "metadata": {},
   "outputs": [],
   "source": [
    "def detect_outliers(df, column):\n",
    "    Q1 = df[column].quantile(0.25)\n",
    "    Q3 = df[column].quantile(0.75)\n",
    "    IQR = Q3 - Q1\n",
    "    lower_bound = Q1 - 1.5 * IQR\n",
    "    upper_bound = Q3 + 1.5 * IQR\n",
    "    outliers = df[(df[column] < lower_bound) | (df[column] > upper_bound)][column]\n",
    "    return outliers"
   ]
  },
  {
   "cell_type": "code",
   "execution_count": 30,
   "id": "49a3a1c3-0228-4980-9ce0-455ec5787e99",
   "metadata": {},
   "outputs": [
    {
     "name": "stdout",
     "output_type": "stream",
     "text": [
      "\n",
      "Outliers in team_1_runs:\n",
      "98      1.0\n",
      "144    45.0\n",
      "474    29.0\n",
      "Name: team_1_runs, dtype: float64\n",
      "\n",
      "Outliers in team_2_runs:\n",
      "230     45.0\n",
      "237     32.0\n",
      "505    383.0\n",
      "Name: team_2_runs, dtype: float64\n"
     ]
    }
   ],
   "source": [
    "outliers_runs1 = detect_outliers(crick_df, 'team_1_runs')\n",
    "outliers_runs2 = detect_outliers(crick_df, 'team_2_runs')\n",
    "print(f\"\\nOutliers in team_1_runs:\\n{outliers_runs1}\")\n",
    "print(f\"\\nOutliers in team_2_runs:\\n{outliers_runs2}\")"
   ]
  },
  {
   "cell_type": "markdown",
   "id": "db781996-f8ed-4231-9ed0-0abc51a82e9c",
   "metadata": {},
   "source": [
    " Reason for Removing Invalid Runs:\n",
    " Rows with negative team_1_runs or team_2_runs are removed because negative run totals are impossible in cricket, indicating data entry errors. These values would distort analyses (e.g., average runs, match outcomes). Removal is conditional to preserve valid data."
   ]
  },
  {
   "cell_type": "code",
   "execution_count": 31,
   "id": "e588bdec-2d37-4f1f-833d-9695bdb05340",
   "metadata": {},
   "outputs": [],
   "source": [
    "invalid_runs = crick_df[(crick_df['team_1_runs'] < 0) | (crick_df['team_2_runs'] < 0)]\n",
    "if not invalid_runs.empty:\n",
    "    print(\"Invalid runs detected:\\n\", invalid_runs)\n",
    "    crick_df = crick_df[(crick_df['team_1_runs'] >= 0) & (crick_df['team_2_runs'] >= 0)]\n",
    "    print(\"Invalid runs removed. New shape:\", crick_df.shape)"
   ]
  },
  {
   "cell_type": "markdown",
   "id": "8476b1a8-ad2a-4f7b-8e41-8054bcb8c716",
   "metadata": {},
   "source": [
    " Reason for Missing Value Imputation:\n",
    " -pom: Imputed with 'Unknown' to handle missing player of the match data (common in early World Cups), preserving rows and enabling categorical analysis without bias.\n",
    " -team_1_wickets and team_2_wickets: Imputed with 10 (maximum wickets) as missing values likely indicate a team was all out, ensuring numerical columns are usable for calculations.\n",
    "-best_batters and best_bowlers: Imputed with '[]' to indicate missing stats (common in older matches), maintaining format for parsing and preventing data loss.\n",
    "\n"
   ]
  },
  {
   "cell_type": "code",
   "execution_count": 32,
   "id": "ff9bf9c7-59f5-45b9-b7d7-8421e1df941a",
   "metadata": {},
   "outputs": [],
   "source": [
    "crick_df['pom'] = crick_df['pom'].fillna('Unknown')\n",
    "crick_df['team_1_wickets'] = crick_df['team_1_wickets'].fillna(10)  # Assume all out\n",
    "crick_df['team_2_wickets'] = crick_df['team_2_wickets'].fillna(10)  # Assume all out\n",
    "crick_df['best_batters'] = crick_df['best_batters'].fillna('[]')\n",
    "crick_df['best_bowlers'] = crick_df['best_bowlers'].fillna('[]')"
   ]
  },
  {
   "cell_type": "code",
   "execution_count": 33,
   "id": "5d32c810-a15c-4f66-953e-820d068a56df",
   "metadata": {
    "scrolled": true
   },
   "outputs": [
    {
     "name": "stdout",
     "output_type": "stream",
     "text": [
      "\n",
      "Null values after imputation:\n",
      "Unnamed: 0.1         0\n",
      "Unnamed: 0           0\n",
      "date                 0\n",
      "venue                0\n",
      "match_category       0\n",
      "team_1               0\n",
      "team_2               0\n",
      "team_1_runs          7\n",
      "team_1_wickets       0\n",
      "team_2_runs         12\n",
      "team_2_wickets       0\n",
      "result               0\n",
      "pom                  0\n",
      "best_batters         0\n",
      "best_bowlers         0\n",
      "commentary_line    290\n",
      "world_cup_year       0\n",
      "host_country         0\n",
      "dtype: int64\n"
     ]
    }
   ],
   "source": [
    "print(\"\\nNull values after imputation:\")\n",
    "print(crick_df.isnull().sum())"
   ]
  },
  {
   "cell_type": "markdown",
   "id": "5aa1b851-a74b-43d0-82b9-eedd2c16609c",
   "metadata": {},
   "source": [
    "## Step 3: Handle Outliers and Missing Values\n",
    "\n",
    "### Reasons for Actions\n",
    "\n",
    "1. **Outlier Detection for team_1_runs and team_2_runs**:\n",
    "   - Outlier detection using the IQR method identifies potential data entry errors (e.g., negative or unrealistically high runs). Cricket run totals vary widely (50 to 400+), so statistical outliers are often valid, reflecting high-scoring games or batting collapses. Outliers are printed for inspection but not removed unless invalid to preserve meaningful data.\n",
    "\n",
    "2. **Removal of Invalid Runs**:\n",
    "   - Rows with negative team_1_runs or team_2_runs are removed, as negative runs are impossible in cricket and indicate errors. These values would distort analyses (e.g., average runs, match outcomes). Removal is conditional to minimize data loss.\n",
    "\n",
    "3. **Missing Value Imputation**:\n",
    "   - **pom**: Imputed with 'Unknown' to handle missing player of the match data (common in early World Cups), preserving rows and enabling categorical analysis without bias.\n",
    "   - **team_1_wickets and team_2_wickets**: Imputed with 10 (maximum wickets) as missing values likely indicate a team was all out, ensuring numerical columns are usable for calculations.\n",
    "   - **best_batters and best_bowlers**: Imputed with '[]' to indicate missing stats (common in older matches), maintaining format for parsing and preventing data loss."
   ]
  },
  {
   "cell_type": "markdown",
   "id": "58fe0e73-ccfb-4155-92c4-ba97f7126851",
   "metadata": {},
   "source": [
    "Adding New Columns"
   ]
  },
  {
   "cell_type": "code",
   "execution_count": 34,
   "id": "1b25c0b7-9a62-490d-8611-9ebbfdd943ed",
   "metadata": {},
   "outputs": [],
   "source": [
    "crick_df['match_status'] = crick_df['result'].apply(lambda x: 'abandoned' if isinstance(x, str) and 'abandoned' in x.lower() else 'played')"
   ]
  },
  {
   "cell_type": "code",
   "execution_count": 37,
   "id": "53fd0974-4d9f-46b3-8935-bbf2b45c7c31",
   "metadata": {},
   "outputs": [],
   "source": [
    "def extract_winner(result, team1, team2):\n",
    "    if isinstance(result, str):\n",
    "        if 'abandoned' in result.lower():\n",
    "            return ''\n",
    "        elif f\"{team1} won\" in result:\n",
    "            return team1\n",
    "        elif f\"{team2} won\" in result:\n",
    "            return team2\n",
    "        else:\n",
    "            return 'Unknown'\n",
    "    return ''\n",
    "\n",
    "crick_df['winning_team'] = crick_df.apply(lambda row: extract_winner(row['result'], row['team_1'], row['team_2']), axis=1)\n",
    "\n",
    "\n"
   ]
  },
  {
   "cell_type": "code",
   "execution_count": 38,
   "id": "eced90ba-8172-4ef2-b28c-3b7a4d632ced",
   "metadata": {},
   "outputs": [],
   "source": [
    "# 4.3: Split best_batters and best_bowlers\n",
    "crick_df['best_batter_1'] = ''\n",
    "crick_df['best_batter_1_runs'] = 0\n",
    "crick_df['best_batter_2'] = ''\n",
    "crick_df['best_batter_2_runs'] = 0\n",
    "crick_df['best_bowler_1'] = ''\n",
    "crick_df['best_bowler_1_wick'] = 0\n",
    "crick_df['best_bowler_2'] = ''\n",
    "crick_df['best_bowler_2_wick'] = 0\n",
    "\n",
    "def parse_batters(batters_str):\n",
    "    try:\n",
    "        batters = eval(batters_str) if isinstance(batters_str, str) and batters_str != '[]' else []\n",
    "        batter_1, runs_1, batter_2, runs_2 = '', 0, '', 0\n",
    "        if len(batters) > 0:\n",
    "            match = re.match(r'(.+) - (\\d+) runs', batters[0])\n",
    "            if match:\n",
    "                batter_1, runs_1 = match.group(1).strip(), int(match.group(2))\n",
    "        if len(batters) > 1:\n",
    "            match = re.match(r'(.+) - (\\d+) runs', batters[1])\n",
    "            if match:\n",
    "                batter_2, runs_2 = match.group(1).strip(), int(match.group(2))\n",
    "        return batter_1, runs_1, batter_2, runs_2\n",
    "    except:\n",
    "        return '', 0, '', 0\n",
    "\n",
    "def parse_bowlers(bowlers_str):\n",
    "    try:\n",
    "        bowlers = eval(bowlers_str) if isinstance(bowlers_str, str) and bowlers_str != '[]' else []\n",
    "        bowler_1, wick_1, bowler_2, wick_2 = '', 0, '', 0\n",
    "        if len(batters) > 0:\n",
    "            match = re.match(r'(.+) - (\\d+)', bowlers[0])\n",
    "            if match:\n",
    "                bowler_1, wick_1 = match.group(1).strip(), int(match.group(2))\n",
    "        if len(batters) > 1:\n",
    "            match = re.match(r'(.+) - (\\d+)', bowlers[1])\n",
    "            if match:\n",
    "                bowler_2, wick_2 = match.group(1).strip(), int(match.group(2))\n",
    "        return bowler_1, wick_1, bowler_2, wick_2\n",
    "    except:\n",
    "        return '', 0, '', 0\n",
    "\n",
    "crick_df[['best_batter_1', 'best_batter_1_runs', 'best_batter_2', 'best_batter_2_runs']] = crick_df['best_batters'].apply(parse_batters).apply(pd.Series)\n",
    "crick_df[['best_bowler_1', 'best_bowler_1_wick', 'best_bowler_2', 'best_bowler_2_wick']] = crick_df['best_bowlers'].apply(parse_bowlers).apply(pd.Series)"
   ]
  },
  {
   "cell_type": "code",
   "execution_count": 40,
   "id": "11565000-127e-4aa0-b43f-49f8b6a58849",
   "metadata": {
    "scrolled": true
   },
   "outputs": [
    {
     "name": "stdout",
     "output_type": "stream",
     "text": [
      "\n",
      "Columns before dropping: ['Unnamed: 0.1', 'Unnamed: 0', 'date', 'venue', 'match_category', 'team_1', 'team_2', 'team_1_runs', 'team_1_wickets', 'team_2_runs', 'team_2_wickets', 'result', 'pom', 'best_batters', 'best_bowlers', 'world_cup_year', 'host_country', 'match_status', 'winning_team', 'best_batter_1', 'best_batter_1_runs', 'best_batter_2', 'best_batter_2_runs', 'best_bowler_1', 'best_bowler_1_wick', 'best_bowler_2', 'best_bowler_2_wick']\n",
      "Column 'commentary_line' not found in DataFrame. Skipping drop.\n",
      "\n",
      "Final DataFrame Info:\n",
      "<class 'pandas.core.frame.DataFrame'>\n",
      "Index: 364 entries, 2 to 527\n",
      "Data columns (total 27 columns):\n",
      " #   Column              Non-Null Count  Dtype  \n",
      "---  ------              --------------  -----  \n",
      " 0   Unnamed: 0.1        364 non-null    int64  \n",
      " 1   Unnamed: 0          364 non-null    int64  \n",
      " 2   date                364 non-null    object \n",
      " 3   venue               364 non-null    object \n",
      " 4   match_category      364 non-null    object \n",
      " 5   team_1              364 non-null    object \n",
      " 6   team_2              364 non-null    object \n",
      " 7   team_1_runs         357 non-null    float64\n",
      " 8   team_1_wickets      364 non-null    float64\n",
      " 9   team_2_runs         352 non-null    float64\n",
      " 10  team_2_wickets      364 non-null    float64\n",
      " 11  result              364 non-null    object \n",
      " 12  pom                 364 non-null    object \n",
      " 13  best_batters        364 non-null    object \n",
      " 14  best_bowlers        364 non-null    object \n",
      " 15  world_cup_year      364 non-null    int64  \n",
      " 16  host_country        364 non-null    object \n",
      " 17  match_status        364 non-null    object \n",
      " 18  winning_team        364 non-null    object \n",
      " 19  best_batter_1       364 non-null    object \n",
      " 20  best_batter_1_runs  364 non-null    int64  \n",
      " 21  best_batter_2       364 non-null    object \n",
      " 22  best_batter_2_runs  364 non-null    int64  \n",
      " 23  best_bowler_1       364 non-null    object \n",
      " 24  best_bowler_1_wick  364 non-null    int64  \n",
      " 25  best_bowler_2       364 non-null    object \n",
      " 26  best_bowler_2_wick  364 non-null    int64  \n",
      "dtypes: float64(4), int64(7), object(16)\n",
      "memory usage: 79.6+ KB\n",
      "None\n",
      "\n",
      "Final DataFrame Head:\n",
      "    Unnamed: 0.1  Unnamed: 0        date        venue match_category team_1  \\\n",
      "2              2          12  1975-06-18        Leeds     Semi-Final    ENG   \n",
      "3              3           8  1975-06-14   Birmingham   League-Match    ENG   \n",
      "9              9           4  1975-06-11   Nottingham   League-Match    ENG   \n",
      "12            12           0  1975-06-07       Lord's   League-Match    ENG   \n",
      "16            16          14  1975-06-21       Lord's          Final     WI   \n",
      "\n",
      "   team_2  team_1_runs  team_1_wickets  team_2_runs  team_2_wickets  \\\n",
      "2     AUS         93.0             0.0         94.0             6.0   \n",
      "3     EAf        290.0             5.0         94.0             0.0   \n",
      "9      NZ        266.0             6.0        186.0             0.0   \n",
      "12    IND        334.0             4.0        132.0             3.0   \n",
      "16    AUS        291.0             8.0        274.0             0.0   \n",
      "\n",
      "                                               result             pom  \\\n",
      "2   Australia won by 4 wickets (with 188 balls rem...    Gary Gilmour   \n",
      "3                             England won by 196 runs       John Snow   \n",
      "9                              England won by 80 runs  Keith Fletcher   \n",
      "12                            England won by 202 runs    Dennis Amiss   \n",
      "16                         West Indies won by 17 runs     Clive Lloyd   \n",
      "\n",
      "   best_batters best_bowlers  world_cup_year host_country match_status  \\\n",
      "2            []           []            1975      England       played   \n",
      "3            []           []            1975      England       played   \n",
      "9            []           []            1975      England       played   \n",
      "12           []           []            1975      England       played   \n",
      "16           []           []            1975      England       played   \n",
      "\n",
      "   winning_team best_batter_1  best_batter_1_runs best_batter_2  \\\n",
      "2       Unknown                                 0                 \n",
      "3       Unknown                                 0                 \n",
      "9       Unknown                                 0                 \n",
      "12      Unknown                                 0                 \n",
      "16      Unknown                                 0                 \n",
      "\n",
      "    best_batter_2_runs best_bowler_1  best_bowler_1_wick best_bowler_2  \\\n",
      "2                    0                                 0                 \n",
      "3                    0                                 0                 \n",
      "9                    0                                 0                 \n",
      "12                   0                                 0                 \n",
      "16                   0                                 0                 \n",
      "\n",
      "    best_bowler_2_wick  \n",
      "2                    0  \n",
      "3                    0  \n",
      "9                    0  \n",
      "12                   0  \n",
      "16                   0  \n",
      "Cleaned DataFrame saved to: C:\\Users\\HP\\PyData-UniConnect-2025-WorldCup-Analysis\\outputs\\cleaned_cricket_worldcup.csv\n"
     ]
    }
   ],
   "source": [
    "# Step 5: Column Removal\n",
    "# ----------------------\n",
    "# Debug: Print columns before dropping\n",
    "print(\"\\nColumns before dropping:\", list(crick_df.columns))\n",
    "\n",
    "# Conditionally drop commentary_line if it exists\n",
    "if 'commentary_line' in crick_df.columns:\n",
    "    crick_df = crick_df.drop(columns=['commentary_line'])\n",
    "    print(\"Dropped 'commentary_line' column.\")\n",
    "else:\n",
    "    print(\"Column 'commentary_line' not found in DataFrame. Skipping drop.\")\n",
    "\n",
    "# Final verification\n",
    "print(\"\\nFinal DataFrame Info:\")\n",
    "print(crick_df.info())\n",
    "print(\"\\nFinal DataFrame Head:\")\n",
    "print(crick_df.head())\n",
    "\n",
    "# Save the cleaned DataFrame\n",
    "crick_df.to_csv(output_path, index=False)\n",
    "print(f\"Cleaned DataFrame saved to: {output_path}\")"
   ]
  },
  {
   "cell_type": "code",
   "execution_count": null,
   "id": "bde26257-1e06-4806-a1c4-fe53330569ef",
   "metadata": {},
   "outputs": [],
   "source": []
  }
 ],
 "metadata": {
  "kernelspec": {
   "display_name": "Python 3 (ipykernel)",
   "language": "python",
   "name": "python3"
  },
  "language_info": {
   "codemirror_mode": {
    "name": "ipython",
    "version": 3
   },
   "file_extension": ".py",
   "mimetype": "text/x-python",
   "name": "python",
   "nbconvert_exporter": "python",
   "pygments_lexer": "ipython3",
   "version": "3.13.2"
  }
 },
 "nbformat": 4,
 "nbformat_minor": 5
}
